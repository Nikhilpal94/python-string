{
 "cells": [
  {
   "cell_type": "code",
   "execution_count": null,
   "id": "0b1ad132",
   "metadata": {},
   "outputs": [],
   "source": []
  },
  {
   "cell_type": "code",
   "execution_count": 3,
   "id": "37e792ba",
   "metadata": {},
   "outputs": [
    {
     "name": "stdout",
     "output_type": "stream",
     "text": [
      "s\n",
      "sh\n",
      "hy\n",
      "ya\n",
      "am\n",
      "m"
     ]
    }
   ],
   "source": [
    "a= \"shyam\"\n",
    "for i in a:\n",
    "    print(i)\n",
    "    print(i,end=\"\")\n",
    "    "
   ]
  },
  {
   "cell_type": "code",
   "execution_count": 4,
   "id": "a165ade6",
   "metadata": {},
   "outputs": [
    {
     "name": "stdout",
     "output_type": "stream",
     "text": [
      "shyam"
     ]
    }
   ],
   "source": [
    "for i in a:\n",
    "    print(i,end=\"\")"
   ]
  },
  {
   "cell_type": "code",
   "execution_count": 5,
   "id": "42b1a7ff",
   "metadata": {},
   "outputs": [
    {
     "name": "stdout",
     "output_type": "stream",
     "text": [
      "everyday\n"
     ]
    }
   ],
   "source": [
    "x=\"every\"+\"day\"\n",
    "print(x)"
   ]
  },
  {
   "cell_type": "code",
   "execution_count": 6,
   "id": "fa8cd8a4",
   "metadata": {},
   "outputs": [
    {
     "name": "stdout",
     "output_type": "stream",
     "text": [
      "loveyou\n"
     ]
    }
   ],
   "source": [
    "x=\"love\"+\"you\"\n",
    "print(x)"
   ]
  },
  {
   "cell_type": "code",
   "execution_count": 7,
   "id": "a577810f",
   "metadata": {},
   "outputs": [
    {
     "data": {
      "text/plain": [
       "'iloveyouiloveyouiloveyou'"
      ]
     },
     "execution_count": 7,
     "metadata": {},
     "output_type": "execute_result"
    }
   ],
   "source": [
    "3* \"iloveyou\""
   ]
  },
  {
   "cell_type": "code",
   "execution_count": 8,
   "id": "dcc4083e",
   "metadata": {},
   "outputs": [
    {
     "data": {
      "text/plain": [
       "True"
      ]
     },
     "execution_count": 8,
     "metadata": {},
     "output_type": "execute_result"
    }
   ],
   "source": [
    "\"love\" in \"iloveyou\""
   ]
  },
  {
   "cell_type": "code",
   "execution_count": 9,
   "id": "780a5475",
   "metadata": {},
   "outputs": [
    {
     "data": {
      "text/plain": [
       "False"
      ]
     },
     "execution_count": 9,
     "metadata": {},
     "output_type": "execute_result"
    }
   ],
   "source": [
    "\"a\"in \"nikhil\""
   ]
  },
  {
   "cell_type": "code",
   "execution_count": 10,
   "id": "10919027",
   "metadata": {},
   "outputs": [
    {
     "data": {
      "text/plain": [
       "False"
      ]
     },
     "execution_count": 10,
     "metadata": {},
     "output_type": "execute_result"
    }
   ],
   "source": [
    "\"sex\" in \"life\""
   ]
  },
  {
   "cell_type": "code",
   "execution_count": 11,
   "id": "2bc702b1",
   "metadata": {},
   "outputs": [
    {
     "data": {
      "text/plain": [
       "True"
      ]
     },
     "execution_count": 11,
     "metadata": {},
     "output_type": "execute_result"
    }
   ],
   "source": [
    "\"balaji\" in \"shribalaji\""
   ]
  },
  {
   "cell_type": "code",
   "execution_count": 12,
   "id": "1672b80c",
   "metadata": {},
   "outputs": [
    {
     "data": {
      "text/plain": [
       "False"
      ]
     },
     "execution_count": 12,
     "metadata": {},
     "output_type": "execute_result"
    }
   ],
   "source": [
    "\"ram\" not in \"shriram\""
   ]
  },
  {
   "cell_type": "code",
   "execution_count": 13,
   "id": "30e99716",
   "metadata": {},
   "outputs": [
    {
     "data": {
      "text/plain": [
       "True"
      ]
     },
     "execution_count": 13,
     "metadata": {},
     "output_type": "execute_result"
    }
   ],
   "source": [
    "\"sex\" not in \"life\""
   ]
  },
  {
   "cell_type": "code",
   "execution_count": 14,
   "id": "64df386e",
   "metadata": {},
   "outputs": [
    {
     "data": {
      "text/plain": [
       "True"
      ]
     },
     "execution_count": 14,
     "metadata": {},
     "output_type": "execute_result"
    }
   ],
   "source": [
    "\"pussy\" in \" ilovepussy\""
   ]
  },
  {
   "cell_type": "code",
   "execution_count": 15,
   "id": "c861a0bd",
   "metadata": {},
   "outputs": [
    {
     "data": {
      "text/plain": [
       "False"
      ]
     },
     "execution_count": 15,
     "metadata": {},
     "output_type": "execute_result"
    }
   ],
   "source": [
    "\"pussy\" not in \"lovepussy\""
   ]
  },
  {
   "cell_type": "code",
   "execution_count": 16,
   "id": "014baddd",
   "metadata": {},
   "outputs": [
    {
     "name": "stdout",
     "output_type": "stream",
     "text": [
      "iloveyounikhil"
     ]
    }
   ],
   "source": [
    "a=\"iloveyounikhil\"\n",
    "for i in a:\n",
    "    print(i,end=\"\")"
   ]
  },
  {
   "cell_type": "code",
   "execution_count": 17,
   "id": "e36ca4c3",
   "metadata": {},
   "outputs": [
    {
     "name": "stdout",
     "output_type": "stream",
     "text": [
      "i\n",
      "l\n",
      "o\n",
      "v\n",
      "e\n",
      "y\n",
      "o\n",
      "u\n",
      "n\n",
      "i\n",
      "k\n",
      "h\n",
      "i\n",
      "l\n"
     ]
    }
   ],
   "source": [
    "for i in a:\n",
    "    print(i)"
   ]
  },
  {
   "cell_type": "code",
   "execution_count": 19,
   "id": "8c0c8127",
   "metadata": {},
   "outputs": [
    {
     "data": {
      "text/plain": [
       "False"
      ]
     },
     "execution_count": 19,
     "metadata": {},
     "output_type": "execute_result"
    }
   ],
   "source": [
    "\"ram\"!= \"ram\""
   ]
  },
  {
   "cell_type": "code",
   "execution_count": 20,
   "id": "0ad40d8a",
   "metadata": {},
   "outputs": [
    {
     "data": {
      "text/plain": [
       "False"
      ]
     },
     "execution_count": 20,
     "metadata": {},
     "output_type": "execute_result"
    }
   ],
   "source": [
    "\"ram\"== \"nikhil\""
   ]
  },
  {
   "cell_type": "code",
   "execution_count": 21,
   "id": "26e01b3e",
   "metadata": {},
   "outputs": [
    {
     "data": {
      "text/plain": [
       "True"
      ]
     },
     "execution_count": 21,
     "metadata": {},
     "output_type": "execute_result"
    }
   ],
   "source": [
    "\"ramesh\" == \"ramesh\""
   ]
  },
  {
   "cell_type": "code",
   "execution_count": 22,
   "id": "26ace276",
   "metadata": {},
   "outputs": [
    {
     "data": {
      "text/plain": [
       "False"
      ]
     },
     "execution_count": 22,
     "metadata": {},
     "output_type": "execute_result"
    }
   ],
   "source": [
    "\"sex\"!= \"sex\""
   ]
  },
  {
   "cell_type": "code",
   "execution_count": 1,
   "id": "26bc4f9c",
   "metadata": {},
   "outputs": [
    {
     "name": "stdout",
     "output_type": "stream",
     "text": [
      "o wor\n"
     ]
    }
   ],
   "source": [
    "a= \"hello world\"\n",
    "print(a[4:-2])"
   ]
  },
  {
   "cell_type": "code",
   "execution_count": 4,
   "id": "4b03b410",
   "metadata": {},
   "outputs": [
    {
     "name": "stdout",
     "output_type": "stream",
     "text": [
      "world hello \n"
     ]
    }
   ],
   "source": [
    "print(a[6:],a[:6])"
   ]
  },
  {
   "cell_type": "code",
   "execution_count": 5,
   "id": "bbb85d1d",
   "metadata": {},
   "outputs": [
    {
     "name": "stdout",
     "output_type": "stream",
     "text": [
      "il p\n"
     ]
    }
   ],
   "source": [
    "a= \"nikhil pal\"\n",
    "print(a[4:-2])"
   ]
  },
  {
   "cell_type": "code",
   "execution_count": 6,
   "id": "72051f66",
   "metadata": {},
   "outputs": [
    {
     "name": "stdout",
     "output_type": "stream",
     "text": [
      "nikhi\n"
     ]
    }
   ],
   "source": [
    "print(a[:5])"
   ]
  },
  {
   "cell_type": "code",
   "execution_count": 8,
   "id": "055d32d4",
   "metadata": {},
   "outputs": [
    {
     "name": "stdout",
     "output_type": "stream",
     "text": [
      "\n"
     ]
    }
   ],
   "source": [
    "print(a[4:2])"
   ]
  },
  {
   "cell_type": "code",
   "execution_count": 9,
   "id": "b3621033",
   "metadata": {},
   "outputs": [
    {
     "name": "stdout",
     "output_type": "stream",
     "text": [
      "il\n"
     ]
    }
   ],
   "source": [
    "print(a[4:6])"
   ]
  },
  {
   "cell_type": "code",
   "execution_count": 11,
   "id": "ffd2f21d",
   "metadata": {},
   "outputs": [
    {
     "name": "stdout",
     "output_type": "stream",
     "text": [
      "\n"
     ]
    }
   ],
   "source": [
    "print(a[-3:2])"
   ]
  },
  {
   "cell_type": "code",
   "execution_count": 12,
   "id": "2938e631",
   "metadata": {},
   "outputs": [
    {
     "name": "stdout",
     "output_type": "stream",
     "text": [
      "\n"
     ]
    }
   ],
   "source": [
    "print(a[-3:-6])"
   ]
  },
  {
   "cell_type": "code",
   "execution_count": 14,
   "id": "ac5ac6a0",
   "metadata": {},
   "outputs": [
    {
     "name": "stdout",
     "output_type": "stream",
     "text": [
      "nikh l p\n"
     ]
    }
   ],
   "source": [
    "print(a[:4],a[5:8])"
   ]
  },
  {
   "cell_type": "code",
   "execution_count": 15,
   "id": "9d60979b",
   "metadata": {},
   "outputs": [
    {
     "name": "stdout",
     "output_type": "stream",
     "text": [
      "ikhil \n"
     ]
    }
   ],
   "source": [
    "print(a[1:6],a[6:2])"
   ]
  },
  {
   "cell_type": "code",
   "execution_count": 17,
   "id": "511a6769",
   "metadata": {},
   "outputs": [
    {
     "name": "stdout",
     "output_type": "stream",
     "text": [
      "nik\n"
     ]
    }
   ],
   "source": [
    "print(a[:3])"
   ]
  },
  {
   "cell_type": "code",
   "execution_count": 18,
   "id": "15a30a7a",
   "metadata": {},
   "outputs": [
    {
     "name": "stdout",
     "output_type": "stream",
     "text": [
      "ki\n"
     ]
    }
   ],
   "source": [
    "print(a[2:6:2])"
   ]
  },
  {
   "cell_type": "code",
   "execution_count": 19,
   "id": "e2083c43",
   "metadata": {},
   "outputs": [
    {
     "name": "stdout",
     "output_type": "stream",
     "text": [
      "hlpl\n"
     ]
    }
   ],
   "source": [
    "print(a[3::2])"
   ]
  },
  {
   "cell_type": "code",
   "execution_count": 20,
   "id": "726efc77",
   "metadata": {},
   "outputs": [
    {
     "name": "stdout",
     "output_type": "stream",
     "text": [
      "nki\n"
     ]
    }
   ],
   "source": [
    "print(a[:5:2])"
   ]
  },
  {
   "cell_type": "code",
   "execution_count": 21,
   "id": "7a8af54b",
   "metadata": {},
   "outputs": [
    {
     "name": "stdout",
     "output_type": "stream",
     "text": [
      "hlpl\n"
     ]
    }
   ],
   "source": [
    "print(a[3::2])"
   ]
  },
  {
   "cell_type": "code",
   "execution_count": 22,
   "id": "dbde828d",
   "metadata": {},
   "outputs": [
    {
     "name": "stdout",
     "output_type": "stream",
     "text": [
      "entre the name:nikhil\n",
      "length of the string= 6\n",
      "length of the string= 6\n",
      "length of the string= 6\n",
      "length of the string= 6\n",
      "length of the string= 6\n",
      "length of the string= 6\n"
     ]
    }
   ],
   "source": [
    "a=input(\"entre the name:\")\n",
    "for i in range (0,len(a)):\n",
    "    print(\"length of the string=\",len(a))\n",
    "    "
   ]
  },
  {
   "cell_type": "code",
   "execution_count": 23,
   "id": "bc618982",
   "metadata": {},
   "outputs": [
    {
     "name": "stdout",
     "output_type": "stream",
     "text": [
      "entre the nameneeraj\n",
      "length of string= 6\n",
      "length of string= 6\n",
      "length of string= 6\n",
      "length of string= 6\n",
      "length of string= 6\n",
      "length of string= 6\n"
     ]
    }
   ],
   "source": [
    "a=input(\"entre the name\")\n",
    "for i in range(0,len(a)):\n",
    "    print(\"length of string=\",len(a))"
   ]
  },
  {
   "cell_type": "code",
   "execution_count": 29,
   "id": "ef210cde",
   "metadata": {},
   "outputs": [
    {
     "name": "stdout",
     "output_type": "stream",
     "text": [
      " entre the name:neeraj\n",
      "neeraj"
     ]
    }
   ],
   "source": [
    "a= input(\" entre the name:\")\n",
    "for i in range(0,len(a)):\n",
    "    print(a[i],end=\"\")"
   ]
  },
  {
   "cell_type": "code",
   "execution_count": 30,
   "id": "dd5eb145",
   "metadata": {},
   "outputs": [
    {
     "name": "stdout",
     "output_type": "stream",
     "text": [
      "entre the name:neeraj\n",
      "jareen\n"
     ]
    }
   ],
   "source": [
    "a=input(\"entre the name:\")\n",
    "print(a[-1::-1])"
   ]
  },
  {
   "cell_type": "code",
   "execution_count": 31,
   "id": "4ed5d12b",
   "metadata": {},
   "outputs": [
    {
     "name": "stdout",
     "output_type": "stream",
     "text": [
      "entre the name:nikhil\n",
      "lihkin\n"
     ]
    }
   ],
   "source": [
    "a=input(\"entre the name:\")\n",
    "print(a[-1::-1])"
   ]
  },
  {
   "cell_type": "code",
   "execution_count": 32,
   "id": "1edfc927",
   "metadata": {},
   "outputs": [
    {
     "name": "stdout",
     "output_type": "stream",
     "text": [
      "entre the name:rakesh\n",
      "hsekar\n"
     ]
    }
   ],
   "source": [
    "a=input(\"entre the name:\")\n",
    "print(a[-1::-1])"
   ]
  },
  {
   "cell_type": "code",
   "execution_count": 4,
   "id": "8305792a",
   "metadata": {},
   "outputs": [
    {
     "name": "stdout",
     "output_type": "stream",
     "text": [
      "Rakesh kumar\n"
     ]
    }
   ],
   "source": [
    "a= \"rakesh kumar\"\n",
    "print(a.capitalize () )"
   ]
  },
  {
   "cell_type": "code",
   "execution_count": 5,
   "id": "f0ff7fc0",
   "metadata": {},
   "outputs": [
    {
     "name": "stdout",
     "output_type": "stream",
     "text": [
      "Nikhil pal\n"
     ]
    }
   ],
   "source": [
    "a=\"nikhil pal\"\n",
    "print(a.capitalize())"
   ]
  },
  {
   "cell_type": "code",
   "execution_count": 7,
   "id": "7f6cdd51",
   "metadata": {},
   "outputs": [
    {
     "name": "stdout",
     "output_type": "stream",
     "text": [
      "after value= Mukesh\n"
     ]
    }
   ],
   "source": [
    "z=\"mukesh\"\n",
    "x=(z.capitalize())\n",
    "print(\"after value=\",x)"
   ]
  },
  {
   "cell_type": "code",
   "execution_count": 13,
   "id": "a1fa5c44",
   "metadata": {},
   "outputs": [
    {
     "name": "stderr",
     "output_type": "stream",
     "text": [
      "<>:3: SyntaxWarning: 'int' object is not callable; perhaps you missed a comma?\n",
      "<>:3: SyntaxWarning: 'int' object is not callable; perhaps you missed a comma?\n",
      "C:\\Users\\nikhil pal\\AppData\\Local\\Temp\\ipykernel_10320\\3991322552.py:3: SyntaxWarning: 'int' object is not callable; perhaps you missed a comma?\n",
      "  a.find (b,0(len(a)-1)-1)\n",
      "C:\\Users\\nikhil pal\\AppData\\Local\\Temp\\ipykernel_10320\\3991322552.py:3: SyntaxWarning: 'int' object is not callable; perhaps you missed a comma?\n",
      "  a.find (b,0(len(a)-1)-1)\n",
      "C:\\Users\\nikhil pal\\AppData\\Local\\Temp\\ipykernel_10320\\3991322552.py:3: SyntaxWarning: 'int' object is not callable; perhaps you missed a comma?\n",
      "  a.find (b,0(len(a)-1)-1)\n",
      "C:\\Users\\nikhil pal\\AppData\\Local\\Temp\\ipykernel_10320\\3991322552.py:3: SyntaxWarning: 'int' object is not callable; perhaps you missed a comma?\n",
      "  a.find (b,0(len(a)-1)-1)\n",
      "C:\\Users\\nikhil pal\\AppData\\Local\\Temp\\ipykernel_10320\\3991322552.py:3: SyntaxWarning: 'int' object is not callable; perhaps you missed a comma?\n",
      "  a.find (b,0(len(a)-1)-1)\n"
     ]
    },
    {
     "ename": "TypeError",
     "evalue": "'int' object is not callable",
     "output_type": "error",
     "traceback": [
      "\u001b[1;31m---------------------------------------------------------------------------\u001b[0m",
      "\u001b[1;31mTypeError\u001b[0m                                 Traceback (most recent call last)",
      "Input \u001b[1;32mIn [13]\u001b[0m, in \u001b[0;36m<cell line: 3>\u001b[1;34m()\u001b[0m\n\u001b[0;32m      1\u001b[0m a\u001b[38;5;241m=\u001b[39m\u001b[38;5;124m\"\u001b[39m\u001b[38;5;124mradha is  very beautiful lady \u001b[39m\u001b[38;5;124m\"\u001b[39m\n\u001b[0;32m      2\u001b[0m b\u001b[38;5;241m=\u001b[39m\u001b[38;5;124m\"\u001b[39m\u001b[38;5;124mbeautiful\u001b[39m\u001b[38;5;124m\"\u001b[39m\n\u001b[1;32m----> 3\u001b[0m a\u001b[38;5;241m.\u001b[39mfind (b,\u001b[38;5;241;43m0\u001b[39;49m\u001b[43m(\u001b[49m\u001b[38;5;28;43mlen\u001b[39;49m\u001b[43m(\u001b[49m\u001b[43ma\u001b[49m\u001b[43m)\u001b[49m\u001b[38;5;241;43m-\u001b[39;49m\u001b[38;5;241;43m1\u001b[39;49m\u001b[43m)\u001b[49m\u001b[38;5;241m-\u001b[39m\u001b[38;5;241m1\u001b[39m)\n",
      "\u001b[1;31mTypeError\u001b[0m: 'int' object is not callable"
     ]
    }
   ],
   "source": [
    "a=\"radha is  very beautiful lady \"\n",
    "b=\"beautiful\"\n",
    "a.find (b,0(len(a)-1)-1)"
   ]
  },
  {
   "cell_type": "code",
   "execution_count": 15,
   "id": "9ceec059",
   "metadata": {},
   "outputs": [
    {
     "name": "stdout",
     "output_type": "stream",
     "text": [
      "etre the string:madam\n",
      "parllidrome number\n"
     ]
    }
   ],
   "source": [
    "a=input(\"etre the string:\")\n",
    "b=a[-1::-1]\n",
    "if(a==b):\n",
    "    print(\"parllidrome number\")\n",
    "else:\n",
    "    print(\"not parlidrome number\")"
   ]
  },
  {
   "cell_type": "code",
   "execution_count": 16,
   "id": "49abf89f",
   "metadata": {},
   "outputs": [
    {
     "name": "stdout",
     "output_type": "stream",
     "text": [
      "input the string:raju\n",
      "not parlidrmoe number \n"
     ]
    }
   ],
   "source": [
    "a=input(\"input the string:\")\n",
    "b=a[-1::-1]\n",
    "if(a==b):\n",
    "    print(\"parlidrome number\")\n",
    "else:\n",
    "    print(\"not parlidrmoe number \")"
   ]
  },
  {
   "cell_type": "code",
   "execution_count": 20,
   "id": "c259325d",
   "metadata": {},
   "outputs": [
    {
     "name": "stdout",
     "output_type": "stream",
     "text": [
      "entre the number:pop\n",
      "parlidrome number\n"
     ]
    }
   ],
   "source": [
    "a=input(\"entre the number:\")\n",
    "b=a[-1::-1]\n",
    "if(a==b):\n",
    "    print(\"parlidrome number\")\n",
    "else:\n",
    "    print(\"not parlidrome number\")"
   ]
  },
  {
   "cell_type": "code",
   "execution_count": 1,
   "id": "cab57890",
   "metadata": {},
   "outputs": [
    {
     "data": {
      "text/plain": [
       "'nikhil'"
      ]
     },
     "execution_count": 1,
     "metadata": {},
     "output_type": "execute_result"
    }
   ],
   "source": [
    "a=[1,\"nikhil\",\"nitesh\",12.5]\n",
    "a[1]"
   ]
  },
  {
   "cell_type": "code",
   "execution_count": 2,
   "id": "22da0752",
   "metadata": {},
   "outputs": [
    {
     "data": {
      "text/plain": [
       "12.5"
      ]
     },
     "execution_count": 2,
     "metadata": {},
     "output_type": "execute_result"
    }
   ],
   "source": [
    "a[-1]"
   ]
  },
  {
   "cell_type": "code",
   "execution_count": 3,
   "id": "0a520ef5",
   "metadata": {},
   "outputs": [
    {
     "data": {
      "text/plain": [
       "12.5"
      ]
     },
     "execution_count": 3,
     "metadata": {},
     "output_type": "execute_result"
    }
   ],
   "source": [
    "a[3]"
   ]
  },
  {
   "cell_type": "code",
   "execution_count": 4,
   "id": "aad44b9a",
   "metadata": {},
   "outputs": [
    {
     "data": {
      "text/plain": [
       "'nitesh'"
      ]
     },
     "execution_count": 4,
     "metadata": {},
     "output_type": "execute_result"
    }
   ],
   "source": [
    "a[-2]"
   ]
  },
  {
   "cell_type": "code",
   "execution_count": 5,
   "id": "ffe45e16",
   "metadata": {},
   "outputs": [
    {
     "name": "stdout",
     "output_type": "stream",
     "text": [
      "[1, 'nikhil', 'nitesh', 12.5]\n"
     ]
    }
   ],
   "source": [
    "print(a)"
   ]
  },
  {
   "cell_type": "code",
   "execution_count": 6,
   "id": "fe08df53",
   "metadata": {},
   "outputs": [
    {
     "ename": "TypeError",
     "evalue": "list indices must be integers or slices, not list",
     "output_type": "error",
     "traceback": [
      "\u001b[1;31m---------------------------------------------------------------------------\u001b[0m",
      "\u001b[1;31mTypeError\u001b[0m                                 Traceback (most recent call last)",
      "Input \u001b[1;32mIn [6]\u001b[0m, in \u001b[0;36m<cell line: 1>\u001b[1;34m()\u001b[0m\n\u001b[1;32m----> 1\u001b[0m \u001b[43ma\u001b[49m\u001b[43m[\u001b[49m\u001b[43ma\u001b[49m\u001b[43m]\u001b[49m\n",
      "\u001b[1;31mTypeError\u001b[0m: list indices must be integers or slices, not list"
     ]
    }
   ],
   "source": [
    "a[a]"
   ]
  },
  {
   "cell_type": "code",
   "execution_count": 7,
   "id": "05fd1ab5",
   "metadata": {},
   "outputs": [
    {
     "data": {
      "text/plain": [
       "1"
      ]
     },
     "execution_count": 7,
     "metadata": {},
     "output_type": "execute_result"
    }
   ],
   "source": [
    "a[-4]"
   ]
  },
  {
   "cell_type": "code",
   "execution_count": 8,
   "id": "56ccf419",
   "metadata": {},
   "outputs": [
    {
     "data": {
      "text/plain": [
       "12.5"
      ]
     },
     "execution_count": 8,
     "metadata": {},
     "output_type": "execute_result"
    }
   ],
   "source": [
    "a[3]"
   ]
  },
  {
   "cell_type": "code",
   "execution_count": 1,
   "id": "e70899f2",
   "metadata": {},
   "outputs": [
    {
     "data": {
      "text/plain": [
       "'nitesh'"
      ]
     },
     "execution_count": 1,
     "metadata": {},
     "output_type": "execute_result"
    }
   ],
   "source": [
    "a=[\"ram\",10,\"nikhil\",\"nitesh\",12.5,\"love\",\"class\",\"math\"]\n",
    "a[3]"
   ]
  },
  {
   "cell_type": "code",
   "execution_count": 2,
   "id": "807b9032",
   "metadata": {},
   "outputs": [
    {
     "data": {
      "text/plain": [
       "'love'"
      ]
     },
     "execution_count": 2,
     "metadata": {},
     "output_type": "execute_result"
    }
   ],
   "source": [
    "a[5]"
   ]
  },
  {
   "cell_type": "code",
   "execution_count": 3,
   "id": "286adebd",
   "metadata": {},
   "outputs": [
    {
     "data": {
      "text/plain": [
       "12.5"
      ]
     },
     "execution_count": 3,
     "metadata": {},
     "output_type": "execute_result"
    }
   ],
   "source": [
    "a[4]"
   ]
  },
  {
   "cell_type": "code",
   "execution_count": 4,
   "id": "e203b59e",
   "metadata": {},
   "outputs": [
    {
     "data": {
      "text/plain": [
       "'nitesh'"
      ]
     },
     "execution_count": 4,
     "metadata": {},
     "output_type": "execute_result"
    }
   ],
   "source": [
    "a[3]"
   ]
  },
  {
   "cell_type": "code",
   "execution_count": 6,
   "id": "9bba0721",
   "metadata": {},
   "outputs": [
    {
     "data": {
      "text/plain": [
       "[]"
      ]
     },
     "execution_count": 6,
     "metadata": {},
     "output_type": "execute_result"
    }
   ],
   "source": [
    "a[1:1:1]"
   ]
  },
  {
   "cell_type": "code",
   "execution_count": 7,
   "id": "3bda980d",
   "metadata": {},
   "outputs": [
    {
     "data": {
      "text/plain": [
       "[10, 'nikhil']"
      ]
     },
     "execution_count": 7,
     "metadata": {},
     "output_type": "execute_result"
    }
   ],
   "source": [
    "a[1:3:1]"
   ]
  },
  {
   "cell_type": "code",
   "execution_count": 8,
   "id": "53b8d0e3",
   "metadata": {},
   "outputs": [
    {
     "data": {
      "text/plain": [
       "[10, 'nitesh', 'love']"
      ]
     },
     "execution_count": 8,
     "metadata": {},
     "output_type": "execute_result"
    }
   ],
   "source": [
    "a[1:7:2]"
   ]
  },
  {
   "cell_type": "code",
   "execution_count": 9,
   "id": "be9e0583",
   "metadata": {},
   "outputs": [
    {
     "data": {
      "text/plain": [
       "[10, 12.5]"
      ]
     },
     "execution_count": 9,
     "metadata": {},
     "output_type": "execute_result"
    }
   ],
   "source": [
    "a[1:7:3]"
   ]
  },
  {
   "cell_type": "code",
   "execution_count": 11,
   "id": "70ec616e",
   "metadata": {},
   "outputs": [
    {
     "data": {
      "text/plain": [
       "[10, 'nikhil', 'nitesh', 12.5, 'love', 'class', 'math']"
      ]
     },
     "execution_count": 11,
     "metadata": {},
     "output_type": "execute_result"
    }
   ],
   "source": [
    "a[1::]"
   ]
  },
  {
   "cell_type": "code",
   "execution_count": 12,
   "id": "299ec568",
   "metadata": {},
   "outputs": [
    {
     "data": {
      "text/plain": [
       "['ram', 10, 'nikhil', 'nitesh', 12.5, 'love', 'class', 'math']"
      ]
     },
     "execution_count": 12,
     "metadata": {},
     "output_type": "execute_result"
    }
   ],
   "source": [
    "a[::1]"
   ]
  },
  {
   "cell_type": "code",
   "execution_count": 13,
   "id": "5f0a1e29",
   "metadata": {},
   "outputs": [
    {
     "data": {
      "text/plain": [
       "['ram', 10]"
      ]
     },
     "execution_count": 13,
     "metadata": {},
     "output_type": "execute_result"
    }
   ],
   "source": [
    "a[:2:]"
   ]
  },
  {
   "cell_type": "code",
   "execution_count": 14,
   "id": "1c9ce6bc",
   "metadata": {},
   "outputs": [
    {
     "data": {
      "text/plain": [
       "['ram', 10]"
      ]
     },
     "execution_count": 14,
     "metadata": {},
     "output_type": "execute_result"
    }
   ],
   "source": [
    "a[:2:1]"
   ]
  },
  {
   "cell_type": "code",
   "execution_count": 15,
   "id": "72083f8d",
   "metadata": {},
   "outputs": [
    {
     "data": {
      "text/plain": [
       "['nitesh', 12.5, 'love']"
      ]
     },
     "execution_count": 15,
     "metadata": {},
     "output_type": "execute_result"
    }
   ],
   "source": [
    "a[3:6:]"
   ]
  },
  {
   "cell_type": "code",
   "execution_count": 16,
   "id": "b6b022d4",
   "metadata": {},
   "outputs": [
    {
     "name": "stdout",
     "output_type": "stream",
     "text": [
      "['ram', 10, 'nikhil', 'nitesh', 12.5, 'love', 'class', 'math']\n"
     ]
    }
   ],
   "source": [
    "print(a)"
   ]
  },
  {
   "cell_type": "code",
   "execution_count": 17,
   "id": "9762a679",
   "metadata": {},
   "outputs": [
    {
     "data": {
      "text/plain": [
       "'nitesh'"
      ]
     },
     "execution_count": 17,
     "metadata": {},
     "output_type": "execute_result"
    }
   ],
   "source": [
    "a[3]"
   ]
  },
  {
   "cell_type": "code",
   "execution_count": 18,
   "id": "a731ad8e",
   "metadata": {},
   "outputs": [
    {
     "data": {
      "text/plain": [
       "'love'"
      ]
     },
     "execution_count": 18,
     "metadata": {},
     "output_type": "execute_result"
    }
   ],
   "source": [
    "a[5]"
   ]
  },
  {
   "cell_type": "code",
   "execution_count": 19,
   "id": "666032ea",
   "metadata": {},
   "outputs": [
    {
     "data": {
      "text/plain": [
       "12.5"
      ]
     },
     "execution_count": 19,
     "metadata": {},
     "output_type": "execute_result"
    }
   ],
   "source": [
    "a[4]"
   ]
  },
  {
   "cell_type": "code",
   "execution_count": 20,
   "id": "9ad92108",
   "metadata": {},
   "outputs": [
    {
     "data": {
      "text/plain": [
       "'class'"
      ]
     },
     "execution_count": 20,
     "metadata": {},
     "output_type": "execute_result"
    }
   ],
   "source": [
    "a[6]"
   ]
  },
  {
   "cell_type": "code",
   "execution_count": 21,
   "id": "1ed8a628",
   "metadata": {},
   "outputs": [
    {
     "data": {
      "text/plain": [
       "10"
      ]
     },
     "execution_count": 21,
     "metadata": {},
     "output_type": "execute_result"
    }
   ],
   "source": [
    "a[1]"
   ]
  },
  {
   "cell_type": "code",
   "execution_count": 22,
   "id": "b5311cbe",
   "metadata": {},
   "outputs": [
    {
     "data": {
      "text/plain": [
       "'class'"
      ]
     },
     "execution_count": 22,
     "metadata": {},
     "output_type": "execute_result"
    }
   ],
   "source": [
    "a[6]"
   ]
  },
  {
   "cell_type": "code",
   "execution_count": 23,
   "id": "a51493a2",
   "metadata": {},
   "outputs": [
    {
     "data": {
      "text/plain": [
       "'math'"
      ]
     },
     "execution_count": 23,
     "metadata": {},
     "output_type": "execute_result"
    }
   ],
   "source": [
    "a[7]"
   ]
  },
  {
   "cell_type": "code",
   "execution_count": 24,
   "id": "07d8cda5",
   "metadata": {},
   "outputs": [],
   "source": [
    "a[3]= \"rakesh\""
   ]
  },
  {
   "cell_type": "code",
   "execution_count": 25,
   "id": "7dde789d",
   "metadata": {},
   "outputs": [
    {
     "data": {
      "text/plain": [
       "['ram', 10, 'nikhil', 'rakesh', 12.5, 'love', 'class', 'math']"
      ]
     },
     "execution_count": 25,
     "metadata": {},
     "output_type": "execute_result"
    }
   ],
   "source": [
    "a"
   ]
  },
  {
   "cell_type": "code",
   "execution_count": 26,
   "id": "c669d1df",
   "metadata": {},
   "outputs": [],
   "source": [
    "a[5]= \"devdas\""
   ]
  },
  {
   "cell_type": "code",
   "execution_count": null,
   "id": "14ddff77",
   "metadata": {},
   "outputs": [],
   "source": []
  },
  {
   "cell_type": "code",
   "execution_count": 27,
   "id": "10c2fd53",
   "metadata": {},
   "outputs": [
    {
     "data": {
      "text/plain": [
       "['ram', 10, 'nikhil', 'rakesh', 12.5, 'devdas', 'class', 'math']"
      ]
     },
     "execution_count": 27,
     "metadata": {},
     "output_type": "execute_result"
    }
   ],
   "source": [
    "a"
   ]
  },
  {
   "cell_type": "code",
   "execution_count": 29,
   "id": "a9f6cd5e",
   "metadata": {},
   "outputs": [],
   "source": [
    "a[7]=\"rose\""
   ]
  },
  {
   "cell_type": "code",
   "execution_count": 30,
   "id": "8f4f9769",
   "metadata": {},
   "outputs": [
    {
     "data": {
      "text/plain": [
       "['ram', 10, 'nikhil', 'rakesh', 12.5, 'devdas', 'class', 'rose']"
      ]
     },
     "execution_count": 30,
     "metadata": {},
     "output_type": "execute_result"
    }
   ],
   "source": [
    "a"
   ]
  },
  {
   "cell_type": "code",
   "execution_count": 31,
   "id": "81a7588a",
   "metadata": {},
   "outputs": [],
   "source": [
    "del a[1]"
   ]
  },
  {
   "cell_type": "code",
   "execution_count": 32,
   "id": "8b0fd9a1",
   "metadata": {},
   "outputs": [
    {
     "data": {
      "text/plain": [
       "['ram', 'nikhil', 'rakesh', 12.5, 'devdas', 'class', 'rose']"
      ]
     },
     "execution_count": 32,
     "metadata": {},
     "output_type": "execute_result"
    }
   ],
   "source": [
    "a"
   ]
  },
  {
   "cell_type": "code",
   "execution_count": 33,
   "id": "ea9a75d9",
   "metadata": {},
   "outputs": [],
   "source": [
    "del a[0]"
   ]
  },
  {
   "cell_type": "code",
   "execution_count": 34,
   "id": "04fb37fe",
   "metadata": {},
   "outputs": [
    {
     "data": {
      "text/plain": [
       "['nikhil', 'rakesh', 12.5, 'devdas', 'class', 'rose']"
      ]
     },
     "execution_count": 34,
     "metadata": {},
     "output_type": "execute_result"
    }
   ],
   "source": [
    "a"
   ]
  },
  {
   "cell_type": "code",
   "execution_count": 35,
   "id": "96aba968",
   "metadata": {},
   "outputs": [],
   "source": [
    "del a[4]"
   ]
  },
  {
   "cell_type": "code",
   "execution_count": 36,
   "id": "3d334931",
   "metadata": {},
   "outputs": [
    {
     "data": {
      "text/plain": [
       "['nikhil', 'rakesh', 12.5, 'devdas', 'rose']"
      ]
     },
     "execution_count": 36,
     "metadata": {},
     "output_type": "execute_result"
    }
   ],
   "source": [
    "a"
   ]
  },
  {
   "cell_type": "code",
   "execution_count": 37,
   "id": "5417ad58",
   "metadata": {},
   "outputs": [],
   "source": [
    "del a[3]"
   ]
  },
  {
   "cell_type": "code",
   "execution_count": 38,
   "id": "04591f43",
   "metadata": {},
   "outputs": [
    {
     "data": {
      "text/plain": [
       "['nikhil', 'rakesh', 12.5, 'rose']"
      ]
     },
     "execution_count": 38,
     "metadata": {},
     "output_type": "execute_result"
    }
   ],
   "source": [
    "a\n"
   ]
  },
  {
   "cell_type": "code",
   "execution_count": 39,
   "id": "badf3625",
   "metadata": {},
   "outputs": [],
   "source": [
    "del a[2]"
   ]
  },
  {
   "cell_type": "code",
   "execution_count": null,
   "id": "2d1fa278",
   "metadata": {},
   "outputs": [],
   "source": []
  },
  {
   "cell_type": "code",
   "execution_count": null,
   "id": "ab0e46e4",
   "metadata": {},
   "outputs": [],
   "source": []
  },
  {
   "cell_type": "code",
   "execution_count": 40,
   "id": "84115737",
   "metadata": {},
   "outputs": [
    {
     "data": {
      "text/plain": [
       "['nikhil', 'rakesh', 'rose']"
      ]
     },
     "execution_count": 40,
     "metadata": {},
     "output_type": "execute_result"
    }
   ],
   "source": [
    "a"
   ]
  },
  {
   "cell_type": "code",
   "execution_count": 42,
   "id": "9148bca9",
   "metadata": {},
   "outputs": [],
   "source": [
    "a[2] = \"mukesh\""
   ]
  },
  {
   "cell_type": "code",
   "execution_count": 43,
   "id": "8916d08c",
   "metadata": {},
   "outputs": [
    {
     "data": {
      "text/plain": [
       "['nikhil', 'rakesh', 'mukesh']"
      ]
     },
     "execution_count": 43,
     "metadata": {},
     "output_type": "execute_result"
    }
   ],
   "source": [
    "a"
   ]
  },
  {
   "cell_type": "code",
   "execution_count": 45,
   "id": "5c40bfb7",
   "metadata": {},
   "outputs": [],
   "source": [
    "a[2]=\"sex\""
   ]
  },
  {
   "cell_type": "code",
   "execution_count": 46,
   "id": "6fad9db7",
   "metadata": {},
   "outputs": [
    {
     "data": {
      "text/plain": [
       "['nikhil', 'rakesh', 'sex']"
      ]
     },
     "execution_count": 46,
     "metadata": {},
     "output_type": "execute_result"
    }
   ],
   "source": [
    "a"
   ]
  },
  {
   "cell_type": "code",
   "execution_count": 1,
   "id": "9031567f",
   "metadata": {},
   "outputs": [
    {
     "name": "stdout",
     "output_type": "stream",
     "text": [
      "ram\n",
      "nikhil\n",
      "12\n",
      "13\n",
      "14\n",
      "car\n",
      "12.5\n"
     ]
    }
   ],
   "source": [
    "a=[\"ram\",\"nikhil\",12,13,14,\"car\",12.5]\n",
    "for i in a:\n",
    "    print(i)"
   ]
  },
  {
   "cell_type": "code",
   "execution_count": 11,
   "id": "0a82da5b",
   "metadata": {},
   "outputs": [
    {
     "name": "stdout",
     "output_type": "stream",
     "text": [
      "ram\n",
      "nikhil\n",
      "12\n",
      "13\n",
      "14\n",
      "car\n",
      "12.5\n"
     ]
    }
   ],
   "source": [
    "a=[\"ram\",\"nikhil\",12,13,14,\"car\",12.5]\n",
    "for i in range(7):\n",
    "    print(a[i])"
   ]
  },
  {
   "cell_type": "code",
   "execution_count": 12,
   "id": "0b34e0d1",
   "metadata": {},
   "outputs": [
    {
     "name": "stdout",
     "output_type": "stream",
     "text": [
      "length of the list= 7\n"
     ]
    }
   ],
   "source": [
    "b=len(a)\n",
    "print(\"length of the list=\",b)"
   ]
  },
  {
   "cell_type": "code",
   "execution_count": 13,
   "id": "3b8ba8a7",
   "metadata": {},
   "outputs": [
    {
     "name": "stdout",
     "output_type": "stream",
     "text": [
      "length of the list= 7\n"
     ]
    }
   ],
   "source": [
    "\n",
    "print(\"length of the list=\",len(a))"
   ]
  },
  {
   "cell_type": "code",
   "execution_count": 14,
   "id": "ed9b72f5",
   "metadata": {},
   "outputs": [
    {
     "name": "stdout",
     "output_type": "stream",
     "text": [
      "maxime number of the list= 789\n"
     ]
    }
   ],
   "source": [
    "a=[12,13,16,18,19,23,34,56,78,90,13,123,456,789]\n",
    "print(\"maxime number of the list=\",max(a))"
   ]
  },
  {
   "cell_type": "code",
   "execution_count": 16,
   "id": "bfba17ae",
   "metadata": {},
   "outputs": [
    {
     "name": "stdout",
     "output_type": "stream",
     "text": [
      "miniume number of the list= -456\n"
     ]
    }
   ],
   "source": [
    "b=[1,23,45,67,89,0,-23,-345,-456,]\n",
    "print(\"miniume number of the list=\",min(b))"
   ]
  },
  {
   "cell_type": "code",
   "execution_count": 17,
   "id": "0d24e989",
   "metadata": {
    "scrolled": true
   },
   "outputs": [
    {
     "name": "stdout",
     "output_type": "stream",
     "text": [
      "maxium no of the list= suman\n"
     ]
    }
   ],
   "source": [
    "c=[\"shyam\",\"nikhil\",\"rakesh\",\"suman\"]\n",
    "print(\"maxium no of the list=\",max(c))"
   ]
  },
  {
   "cell_type": "code",
   "execution_count": 18,
   "id": "7fe45451",
   "metadata": {},
   "outputs": [
    {
     "name": "stdout",
     "output_type": "stream",
     "text": [
      "minium number of list= nikhil\n"
     ]
    }
   ],
   "source": [
    "c=[\"shyam\",\"nikhil\",\"rakesh\",\"suman\"]\n",
    "print(\"minium number of list=\",min(c))"
   ]
  },
  {
   "cell_type": "code",
   "execution_count": 20,
   "id": "d87b56a0",
   "metadata": {},
   "outputs": [
    {
     "name": "stdout",
     "output_type": "stream",
     "text": [
      "shyam\n",
      "nikhil\n",
      "rakesh\n",
      "suman\n"
     ]
    }
   ],
   "source": [
    "c=[\"shyam\",\"nikhil\",\"rakesh\",\"suman\"]\n",
    "for i in c:\n",
    "    print(i)"
   ]
  },
  {
   "cell_type": "code",
   "execution_count": 23,
   "id": "de21b032",
   "metadata": {},
   "outputs": [
    {
     "name": "stdout",
     "output_type": "stream",
     "text": [
      "shyam\n",
      "nikhil\n",
      "rakesh\n",
      "suman\n"
     ]
    }
   ],
   "source": [
    "c=[\"shyam\",\"nikhil\",\"rakesh\",\"suman\"]\n",
    "for i in range(len(c)):\n",
    "    print(c[i])"
   ]
  },
  {
   "cell_type": "code",
   "execution_count": 30,
   "id": "f4521e01",
   "metadata": {},
   "outputs": [
    {
     "name": "stdout",
     "output_type": "stream",
     "text": [
      "0\n",
      "1\n",
      "2\n",
      "3\n",
      "4\n"
     ]
    }
   ],
   "source": [
    "c=[\"shyam\",\"nikhil\",\"rakesh\",\"suman\",23]\n",
    "for i in range(len(c)):\n",
    "    print(i)"
   ]
  },
  {
   "cell_type": "code",
   "execution_count": 31,
   "id": "06904e94",
   "metadata": {},
   "outputs": [
    {
     "data": {
      "text/plain": [
       "5"
      ]
     },
     "execution_count": 31,
     "metadata": {},
     "output_type": "execute_result"
    }
   ],
   "source": [
    "len(c)"
   ]
  },
  {
   "cell_type": "code",
   "execution_count": 32,
   "id": "ad5f3dd4",
   "metadata": {},
   "outputs": [
    {
     "name": "stdout",
     "output_type": "stream",
     "text": [
      "shyam\n",
      "nikhil\n",
      "rakesh\n",
      "suman\n",
      "23\n"
     ]
    }
   ],
   "source": [
    "for i in c:\n",
    "    print(i)"
   ]
  },
  {
   "cell_type": "code",
   "execution_count": 37,
   "id": "1f24ffdc",
   "metadata": {},
   "outputs": [
    {
     "name": "stdout",
     "output_type": "stream",
     "text": [
      "shyam\n",
      "nikhil\n",
      "rakesh\n",
      "suman\n",
      "23\n"
     ]
    }
   ],
   "source": [
    "for i in range (len(c)):\n",
    "    print(c[i])"
   ]
  },
  {
   "cell_type": "code",
   "execution_count": 1,
   "id": "8ea48d48",
   "metadata": {},
   "outputs": [
    {
     "data": {
      "text/plain": [
       "890"
      ]
     },
     "execution_count": 1,
     "metadata": {},
     "output_type": "execute_result"
    }
   ],
   "source": [
    "a=[12,14,23,456,67,890]\n",
    "max(a)"
   ]
  },
  {
   "cell_type": "code",
   "execution_count": 2,
   "id": "17a31061",
   "metadata": {},
   "outputs": [
    {
     "data": {
      "text/plain": [
       "73"
      ]
     },
     "execution_count": 2,
     "metadata": {},
     "output_type": "execute_result"
    }
   ],
   "source": [
    "b=[12,23,45,67,80-7]\n",
    "max(b)"
   ]
  },
  {
   "cell_type": "code",
   "execution_count": 4,
   "id": "306212e1",
   "metadata": {},
   "outputs": [
    {
     "data": {
      "text/plain": [
       "604788636"
      ]
     },
     "execution_count": 4,
     "metadata": {},
     "output_type": "execute_result"
    }
   ],
   "source": [
    "c=[12,354,567,791234,456789*1324]\n",
    "max(c)"
   ]
  },
  {
   "cell_type": "code",
   "execution_count": 5,
   "id": "f0ac8727",
   "metadata": {},
   "outputs": [
    {
     "data": {
      "text/plain": [
       "1232312.34"
      ]
     },
     "execution_count": 5,
     "metadata": {},
     "output_type": "execute_result"
    }
   ],
   "source": [
    "d=[134,2345,56789,123231234/100]\n",
    "max(d)"
   ]
  },
  {
   "cell_type": "code",
   "execution_count": 8,
   "id": "7f7ead2f",
   "metadata": {},
   "outputs": [
    {
     "data": {
      "text/plain": [
       "2.734545614451513"
      ]
     },
     "execution_count": 8,
     "metadata": {},
     "output_type": "execute_result"
    }
   ],
   "source": [
    "a=[12,13,356,4567,1234,6779,33455678/12234456]\n",
    "min(a)"
   ]
  },
  {
   "cell_type": "code",
   "execution_count": 9,
   "id": "4ec169f0",
   "metadata": {},
   "outputs": [
    {
     "data": {
      "text/plain": [
       "1.089430894308943"
      ]
     },
     "execution_count": 9,
     "metadata": {},
     "output_type": "execute_result"
    }
   ],
   "source": [
    "a=[12,2,45,566,678,234,678,2354,79889,134/123]\n",
    "min(a)"
   ]
  },
  {
   "cell_type": "code",
   "execution_count": 3,
   "id": "f4a01b46",
   "metadata": {},
   "outputs": [
    {
     "name": "stdout",
     "output_type": "stream",
     "text": [
      "max number in the list= 789\n",
      "minium umber in the list=: 12\n",
      "list number of range= 6\n"
     ]
    }
   ],
   "source": [
    "a=[12,334,56,789,234,678]\n",
    "print(\"max number in the list=\",max(a))\n",
    "print(\"minium umber in the list=:\",min(a))\n",
    "print(\"list number of range=\",len(a))"
   ]
  },
  {
   "cell_type": "markdown",
   "id": "b538675e",
   "metadata": {},
   "source": [
    "# append()function"
   ]
  },
  {
   "cell_type": "code",
   "execution_count": 6,
   "id": "315a285f",
   "metadata": {},
   "outputs": [
    {
     "name": "stdout",
     "output_type": "stream",
     "text": [
      "new name add this list= ['ram', 'shyam', 'nikhil', 'neeraj', 'pankaj']\n"
     ]
    }
   ],
   "source": [
    "c=[\"ram\",\"shyam\",\"nikhil\",\"neeraj\"]\n",
    "a=c.append(\"pankaj\")\n",
    "print(\"new name add this list=\",c)"
   ]
  },
  {
   "cell_type": "code",
   "execution_count": 7,
   "id": "f6bb39b9",
   "metadata": {},
   "outputs": [
    {
     "name": "stdout",
     "output_type": "stream",
     "text": [
      "['ram', 'shyam', 'nikhil', 'neeraj', 'ram']\n"
     ]
    }
   ],
   "source": [
    "c=[\"ram\",\"shyam\",\"nikhil\",\"neeraj\"]\n",
    "x=c.append(\"ram\")\n",
    "print(c)"
   ]
  },
  {
   "cell_type": "code",
   "execution_count": 9,
   "id": "33d4d452",
   "metadata": {},
   "outputs": [
    {
     "name": "stdout",
     "output_type": "stream",
     "text": [
      "entre the value:ram\n",
      "entre the value:shyam\n",
      "entre the value:nitesh\n",
      "entre the value:neerraj\n",
      "entre the value:pankaj\n",
      "ram\n",
      "shyam\n",
      "nitesh\n",
      "neerraj\n",
      "pankaj\n"
     ]
    }
   ],
   "source": [
    "a=[]\n",
    "for i in range(1,6):\n",
    "    val=input(\"entre the value:\")\n",
    "    a.append(val)\n",
    "for i in range(5):\n",
    "    print(a[i])\n",
    "    "
   ]
  },
  {
   "cell_type": "code",
   "execution_count": 4,
   "id": "a8558a46",
   "metadata": {},
   "outputs": [
    {
     "ename": "IndexError",
     "evalue": "list index out of range",
     "output_type": "error",
     "traceback": [
      "\u001b[1;31m---------------------------------------------------------------------------\u001b[0m",
      "\u001b[1;31mIndexError\u001b[0m                                Traceback (most recent call last)",
      "Input \u001b[1;32mIn [4]\u001b[0m, in \u001b[0;36m<cell line: 2>\u001b[1;34m()\u001b[0m\n\u001b[0;32m      1\u001b[0m a\u001b[38;5;241m=\u001b[39m[]\n\u001b[0;32m      2\u001b[0m \u001b[38;5;28;01mfor\u001b[39;00m i \u001b[38;5;129;01min\u001b[39;00m \u001b[38;5;28mrange\u001b[39m(\u001b[38;5;241m6\u001b[39m):\n\u001b[1;32m----> 3\u001b[0m     \u001b[38;5;28mprint\u001b[39m(\u001b[43ma\u001b[49m\u001b[43m[\u001b[49m\u001b[43mi\u001b[49m\u001b[43m]\u001b[49m)\n",
      "\u001b[1;31mIndexError\u001b[0m: list index out of range"
     ]
    }
   ],
   "source": [
    "a=[]\n",
    "for i in range(6):\n",
    "    print(a[i])"
   ]
  },
  {
   "cell_type": "code",
   "execution_count": 8,
   "id": "4e4d8e74",
   "metadata": {},
   "outputs": [
    {
     "name": "stdout",
     "output_type": "stream",
     "text": [
      "entre the value:12\n",
      "entre the value:34\n",
      "entre the value:56\n",
      "entre the value:34\n",
      "entre the value:56\n",
      "entre the value:34\n",
      "12\n",
      "34\n",
      "56\n",
      "34\n",
      "56\n",
      "34\n"
     ]
    }
   ],
   "source": [
    "a=[]\n",
    "for i in range (1,7):\n",
    "    val=int(input(\"entre the value:\"))\n",
    "    a.append(val)\n",
    "for i in a:\n",
    "    print(i)"
   ]
  },
  {
   "cell_type": "code",
   "execution_count": 10,
   "id": "65fe40f4",
   "metadata": {},
   "outputs": [
    {
     "name": "stdout",
     "output_type": "stream",
     "text": [
      "entre the value:syam\n",
      "entre the value:nikhil\n",
      "entre the value:nitesh\n",
      "entre the value:nikhil\n",
      "entre the value:raaj\n"
     ]
    },
    {
     "ename": "IndexError",
     "evalue": "list index out of range",
     "output_type": "error",
     "traceback": [
      "\u001b[1;31m---------------------------------------------------------------------------\u001b[0m",
      "\u001b[1;31mIndexError\u001b[0m                                Traceback (most recent call last)",
      "Input \u001b[1;32mIn [10]\u001b[0m, in \u001b[0;36m<cell line: 5>\u001b[1;34m()\u001b[0m\n\u001b[0;32m      3\u001b[0m     val\u001b[38;5;241m=\u001b[39m\u001b[38;5;28minput\u001b[39m(\u001b[38;5;124m\"\u001b[39m\u001b[38;5;124mentre the value:\u001b[39m\u001b[38;5;124m\"\u001b[39m)\n\u001b[0;32m      4\u001b[0m     a\u001b[38;5;241m.\u001b[39mappend(val)\n\u001b[1;32m----> 5\u001b[0m \u001b[38;5;28mprint\u001b[39m(\u001b[43ma\u001b[49m\u001b[43m[\u001b[49m\u001b[43mi\u001b[49m\u001b[43m]\u001b[49m)\n",
      "\u001b[1;31mIndexError\u001b[0m: list index out of range"
     ]
    }
   ],
   "source": [
    "a=[]\n",
    "for i in range(1,6):\n",
    "    val=input(\"entre the value:\")\n",
    "    a.append(val)\n",
    "print(a[i])\n",
    "    "
   ]
  },
  {
   "cell_type": "markdown",
   "id": "d43e37fa",
   "metadata": {},
   "source": [
    "\n",
    "# count() function"
   ]
  },
  {
   "cell_type": "code",
   "execution_count": 1,
   "id": "71c134d6",
   "metadata": {},
   "outputs": [
    {
     "name": "stdout",
     "output_type": "stream",
     "text": [
      "frequency of ram= 2\n"
     ]
    }
   ],
   "source": [
    "var=[\"ram\",\"sita\",\"gopal\",\"nitesh\",\"suresh\",\"naman\",\"ram\"]\n",
    "x=var.count(\"ram\")\n",
    "print(\"frequency of ram=\",x)"
   ]
  },
  {
   "cell_type": "code",
   "execution_count": 2,
   "id": "e55039c2",
   "metadata": {},
   "outputs": [
    {
     "name": "stdout",
     "output_type": "stream",
     "text": [
      "frequency of 2= 3\n"
     ]
    }
   ],
   "source": [
    "var=[2,4,5,6,7,8,9,0,1,2,3,4,5,6,7,8,2,3,4,5,6,7]\n",
    "x=var.count(2)\n",
    "print(\"frequency of 2=\",x)"
   ]
  },
  {
   "cell_type": "code",
   "execution_count": 3,
   "id": "78bcb4e7",
   "metadata": {},
   "outputs": [
    {
     "name": "stdout",
     "output_type": "stream",
     "text": [
      "frequency of five= 3\n"
     ]
    }
   ],
   "source": [
    "x=var.count(5)\n",
    "print(\"frequency of five=\",x)"
   ]
  },
  {
   "cell_type": "code",
   "execution_count": 4,
   "id": "219035fb",
   "metadata": {},
   "outputs": [
    {
     "name": "stdout",
     "output_type": "stream",
     "text": [
      "frequency of ram= 2\n"
     ]
    }
   ],
   "source": [
    "y=[\"ram\",\"nitesh\",12,13,14,14.5,\"ram\",12,13,\"count\",\"sex\",\"love\",-23,]\n",
    "z=y.count(\"ram\")\n",
    "print(\"frequency of ram=\",z)"
   ]
  },
  {
   "cell_type": "code",
   "execution_count": 8,
   "id": "6d88be24",
   "metadata": {},
   "outputs": [
    {
     "name": "stdout",
     "output_type": "stream",
     "text": [
      "entre the value:12\n",
      "entre the value:23\n",
      "entre the value:12\n",
      "entre the value:45\n",
      "entre the value:67\n",
      "entre the value:34\n",
      "entre the number do you want check frequency:12\n",
      "frequncy of  12  is= 2\n"
     ]
    }
   ],
   "source": [
    "a=[]\n",
    "for i in range(6):\n",
    "    var=int(input(\"entre the value:\"))\n",
    "    a.append(var)\n",
    "x=int(input(\"entre the number do you want check frequency:\"))\n",
    "y=a.count(x)\n",
    "print(\"frequncy of \",x,\" is=\",y)"
   ]
  },
  {
   "cell_type": "code",
   "execution_count": 9,
   "id": "49f9a809",
   "metadata": {},
   "outputs": [
    {
     "name": "stdout",
     "output_type": "stream",
     "text": [
      "entre the number:nikhil\n",
      "entre the number:ran\n",
      "entre the number:nitesh\n",
      "entre the number:ran\n",
      "entre the number:rani\n",
      "entre the number:nikhil\n",
      "entre the name do you want check frequency:nikhil\n",
      "frequency of  nikhil  is = 2\n"
     ]
    }
   ],
   "source": [
    "a=[]\n",
    "for i in range(6):\n",
    "    var=input(\"entre the number:\")\n",
    "    a.append(var)\n",
    "x=input(\"entre the name do you want check frequency:\")\n",
    "y=a.count(x)\n",
    "print(\"frequency of \",x,\" is =\",y)"
   ]
  },
  {
   "cell_type": "code",
   "execution_count": 10,
   "id": "71916fdb",
   "metadata": {},
   "outputs": [
    {
     "name": "stdout",
     "output_type": "stream",
     "text": [
      "entre the value:12\n",
      "entre the value:34\n",
      "entre the value:12\n",
      "entre the value:45\n",
      "entre the value:23\n",
      "entre the number do you want frequency:12\n",
      "frequncy of  12  is = 2\n"
     ]
    }
   ],
   "source": [
    "a=[]\n",
    "for i in range(5):\n",
    "    var=int(input(\"entre the value:\"))\n",
    "    a.append(var)\n",
    "z=int(input(\"entre the number do you want frequency:\"))\n",
    "y=a.count(z)\n",
    "print(\"frequncy of \",z,\" is =\",y)\n"
   ]
  },
  {
   "cell_type": "markdown",
   "id": "b6ecde4a",
   "metadata": {},
   "source": [
    "# indexing ()"
   ]
  },
  {
   "cell_type": "code",
   "execution_count": 1,
   "id": "98cdf455",
   "metadata": {},
   "outputs": [
    {
     "data": {
      "text/plain": [
       "3"
      ]
     },
     "execution_count": 1,
     "metadata": {},
     "output_type": "execute_result"
    }
   ],
   "source": [
    "a=[12,13,14,\"ram\",\"nikhil\",\"shyam\"]\n",
    "a.index(\"ram\")"
   ]
  },
  {
   "cell_type": "code",
   "execution_count": 2,
   "id": "29008d91",
   "metadata": {},
   "outputs": [
    {
     "data": {
      "text/plain": [
       "0"
      ]
     },
     "execution_count": 2,
     "metadata": {},
     "output_type": "execute_result"
    }
   ],
   "source": [
    "a.index(12)"
   ]
  },
  {
   "cell_type": "code",
   "execution_count": 4,
   "id": "e82711ca",
   "metadata": {},
   "outputs": [
    {
     "data": {
      "text/plain": [
       "14"
      ]
     },
     "execution_count": 4,
     "metadata": {},
     "output_type": "execute_result"
    }
   ],
   "source": [
    "a[2]"
   ]
  },
  {
   "cell_type": "code",
   "execution_count": 5,
   "id": "8078e7c0",
   "metadata": {},
   "outputs": [
    {
     "data": {
      "text/plain": [
       "'nikhil'"
      ]
     },
     "execution_count": 5,
     "metadata": {},
     "output_type": "execute_result"
    }
   ],
   "source": [
    "a[4]"
   ]
  },
  {
   "cell_type": "code",
   "execution_count": 3,
   "id": "8f211f97",
   "metadata": {},
   "outputs": [
    {
     "name": "stdout",
     "output_type": "stream",
     "text": [
      "entre the name:nikhil\n",
      "entre the name:rahul\n",
      "entre the name:nitesh\n",
      "entre the name:pawan\n",
      "entre the name:abhijeet\n",
      "entre the name who you find indexing:rahul\n",
      "index value= 1\n",
      "after indexing of list= ['nikhil', 'rahul', 'nitesh', 'pawan', 'abhijeet']\n"
     ]
    }
   ],
   "source": [
    "a=[]\n",
    "for i in range(5):\n",
    "    var=input(\"entre the name:\")\n",
    "    a.append(var)\n",
    "x=input(\"entre the name who you find indexing:\")\n",
    "z=a.index(x)\n",
    "print(\"index value=\",z)\n",
    "print(\"after indexing of list=\",a)"
   ]
  },
  {
   "cell_type": "markdown",
   "id": "ed306376",
   "metadata": {},
   "source": [
    "# insert ()"
   ]
  },
  {
   "cell_type": "code",
   "execution_count": 4,
   "id": "20d26689",
   "metadata": {},
   "outputs": [
    {
     "name": "stdout",
     "output_type": "stream",
     "text": [
      "[5, 'ram', 'shyam', 10]\n"
     ]
    }
   ],
   "source": [
    "a=[5,\"ram\",10]\n",
    "a.insert(2,\"shyam\")\n",
    "print(a)"
   ]
  },
  {
   "cell_type": "code",
   "execution_count": 6,
   "id": "898ab9b8",
   "metadata": {},
   "outputs": [
    {
     "name": "stdout",
     "output_type": "stream",
     "text": [
      "[5, 'ram', 'shyam', 15, 10, 10]\n"
     ]
    }
   ],
   "source": [
    "a.insert(3,15)\n",
    "print(a)"
   ]
  },
  {
   "cell_type": "code",
   "execution_count": 8,
   "id": "24f874d7",
   "metadata": {},
   "outputs": [
    {
     "data": {
      "text/plain": [
       "3"
      ]
     },
     "execution_count": 8,
     "metadata": {},
     "output_type": "execute_result"
    }
   ],
   "source": [
    "a.index(15)"
   ]
  },
  {
   "cell_type": "code",
   "execution_count": 9,
   "id": "d0845265",
   "metadata": {},
   "outputs": [
    {
     "data": {
      "text/plain": [
       "15"
      ]
     },
     "execution_count": 9,
     "metadata": {},
     "output_type": "execute_result"
    }
   ],
   "source": [
    "a[3]"
   ]
  },
  {
   "cell_type": "code",
   "execution_count": 10,
   "id": "1061c973",
   "metadata": {},
   "outputs": [
    {
     "data": {
      "text/plain": [
       "10"
      ]
     },
     "execution_count": 10,
     "metadata": {},
     "output_type": "execute_result"
    }
   ],
   "source": [
    "a[4]"
   ]
  },
  {
   "cell_type": "code",
   "execution_count": 11,
   "id": "60419d17",
   "metadata": {},
   "outputs": [
    {
     "data": {
      "text/plain": [
       "10"
      ]
     },
     "execution_count": 11,
     "metadata": {},
     "output_type": "execute_result"
    }
   ],
   "source": [
    "a[5]"
   ]
  },
  {
   "cell_type": "code",
   "execution_count": 12,
   "id": "c9c2e05b",
   "metadata": {},
   "outputs": [
    {
     "data": {
      "text/plain": [
       "1"
      ]
     },
     "execution_count": 12,
     "metadata": {},
     "output_type": "execute_result"
    }
   ],
   "source": [
    "a.index(\"ram\")"
   ]
  },
  {
   "cell_type": "code",
   "execution_count": 13,
   "id": "c2742f4d",
   "metadata": {},
   "outputs": [
    {
     "name": "stdout",
     "output_type": "stream",
     "text": [
      "[5, 'ram', 'shyam', 15, 10, 10, 'nitesh']\n"
     ]
    }
   ],
   "source": [
    "a.insert(6,\"nitesh\")\n",
    "print(a)"
   ]
  },
  {
   "cell_type": "code",
   "execution_count": 15,
   "id": "0184d2c8",
   "metadata": {},
   "outputs": [
    {
     "name": "stdout",
     "output_type": "stream",
     "text": [
      "entre the name:nitesh\n",
      "entre the name:rahul\n",
      "entre the name:sankar\n",
      "entre the name:rahul\n",
      "entre the name:deepak\n",
      "entre the indexing value:3\n",
      "entre the value:nikhil\n",
      "after inserting value= ['nitesh', 'rahul', 'sankar', 'nikhil', 'rahul', 'deepak']\n",
      "show index value and value do you want add= None\n"
     ]
    }
   ],
   "source": [
    "a=[]\n",
    "for i in range(5):\n",
    "    var=input(\"entre the name:\")\n",
    "    a.append(var)\n",
    "index=int(input(\"entre the indexing value:\"))\n",
    "value=input(\"entre the value:\")\n",
    "z=a.insert(index,value)\n",
    "print(\"after inserting value=\",a)\n",
    "print(\"show index value and value do you want add=\",z)"
   ]
  },
  {
   "cell_type": "markdown",
   "id": "365bedc9",
   "metadata": {},
   "source": [
    "# remove()"
   ]
  },
  {
   "cell_type": "code",
   "execution_count": 2,
   "id": "5b65a005",
   "metadata": {},
   "outputs": [
    {
     "name": "stdout",
     "output_type": "stream",
     "text": [
      "[13, 'nitesh', 'nikhil', 'ram', 12, 13]\n"
     ]
    }
   ],
   "source": [
    "a=[13,\"ram\",\"nitesh\",\"nikhil\",\"ram\",12,13]\n",
    "a.remove(\"ram\")\n",
    "print(a)"
   ]
  },
  {
   "cell_type": "code",
   "execution_count": 3,
   "id": "97d25487",
   "metadata": {},
   "outputs": [
    {
     "name": "stdout",
     "output_type": "stream",
     "text": [
      "[13, 'nitesh', 'nikhil', 12, 13]\n"
     ]
    }
   ],
   "source": [
    "a.remove(\"ram\")\n",
    "print(a)"
   ]
  },
  {
   "cell_type": "code",
   "execution_count": 4,
   "id": "2cd931dd",
   "metadata": {},
   "outputs": [
    {
     "name": "stdout",
     "output_type": "stream",
     "text": [
      "['nitesh', 'nikhil', 12, 13]\n"
     ]
    }
   ],
   "source": [
    "a.remove(13)\n",
    "print(a)"
   ]
  },
  {
   "cell_type": "code",
   "execution_count": 6,
   "id": "ebb1faa6",
   "metadata": {},
   "outputs": [
    {
     "name": "stdout",
     "output_type": "stream",
     "text": [
      "['nitesh', 'nikhil', 13]\n"
     ]
    }
   ],
   "source": [
    "a.remove(12)\n",
    "print(a)"
   ]
  },
  {
   "cell_type": "code",
   "execution_count": 8,
   "id": "08f627a1",
   "metadata": {},
   "outputs": [
    {
     "name": "stdout",
     "output_type": "stream",
     "text": [
      "inter the name:nikhil\n",
      "inter the name:ram\n",
      "inter the name:nitesh\n",
      "inter the name:santosh\n",
      "inter the name:ram\n",
      "original string= ['nikhil', 'ram', 'nitesh', 'santosh', 'ram']\n",
      "entre the name to delete:ram\n",
      "after deleting string= ['nikhil', 'nitesh', 'santosh', 'ram']\n"
     ]
    }
   ],
   "source": [
    "a=[]\n",
    "for i in range(5):\n",
    "    var=input(\"inter the name:\")\n",
    "    a.append(var)\n",
    "print(\"original string=\",a)\n",
    "value=input(\"entre the name to delete:\")\n",
    "a.remove(value)\n",
    "print(\"after deleting string=\",a)"
   ]
  },
  {
   "cell_type": "code",
   "execution_count": 3,
   "id": "7aecc298",
   "metadata": {},
   "outputs": [
    {
     "name": "stdout",
     "output_type": "stream",
     "text": [
      "['nitesh', 'nikhil', 45, 3, 12]\n"
     ]
    }
   ],
   "source": [
    "a=[12,3,45,\"nikhil\",\"nitesh\"]\n",
    "x=a.reverse()\n",
    "print(a)"
   ]
  },
  {
   "cell_type": "code",
   "execution_count": 4,
   "id": "d9d838ab",
   "metadata": {},
   "outputs": [
    {
     "name": "stdout",
     "output_type": "stream",
     "text": [
      "['rahul', 'nitesh', 56, 4, 3, 12]\n"
     ]
    }
   ],
   "source": [
    "b=[12,3,4,56,\"nitesh\",\"rahul\"]\n",
    "b.reverse()\n",
    "print(b)"
   ]
  },
  {
   "cell_type": "code",
   "execution_count": 7,
   "id": "883e340c",
   "metadata": {},
   "outputs": [
    {
     "name": "stdout",
     "output_type": "stream",
     "text": [
      "intre the name:nikhil\n",
      "intre the name:shyam\n",
      "intre the name:nitesh\n",
      "intre the name:rahul\n",
      "intre the name:sandeep\n",
      "original string= ['nikhil', 'shyam', 'nitesh', 'rahul', 'sandeep']\n",
      "reverse list= ['sandeep', 'rahul', 'nitesh', 'shyam', 'nikhil']\n"
     ]
    }
   ],
   "source": [
    "a=[]\n",
    "for i in range(5):\n",
    "    var=input(\"intre the name:\")\n",
    "    a.append(var)\n",
    "print(\"original string=\",a)\n",
    "x=a.reverse()\n",
    "print(\"reverse list=\",a)"
   ]
  },
  {
   "cell_type": "code",
   "execution_count": null,
   "id": "60c91365",
   "metadata": {},
   "outputs": [],
   "source": []
  },
  {
   "cell_type": "code",
   "execution_count": null,
   "id": "99eec615",
   "metadata": {},
   "outputs": [],
   "source": []
  },
  {
   "cell_type": "code",
   "execution_count": null,
   "id": "35db6d18",
   "metadata": {},
   "outputs": [],
   "source": []
  },
  {
   "cell_type": "code",
   "execution_count": null,
   "id": "e2e0cc66",
   "metadata": {},
   "outputs": [],
   "source": []
  },
  {
   "cell_type": "code",
   "execution_count": 11,
   "id": "c8ff1fde",
   "metadata": {},
   "outputs": [
    {
     "name": "stdout",
     "output_type": "stream",
     "text": [
      "['nikhil', 'nitesh', 1, 2, 3, 4]\n"
     ]
    }
   ],
   "source": [
    "c=[\"nikhil\",\"nitesh\",1,2,3,4,5]\n",
    "c.pop()\n",
    "print(c)"
   ]
  },
  {
   "cell_type": "code",
   "execution_count": 12,
   "id": "b31f0338",
   "metadata": {},
   "outputs": [
    {
     "name": "stdout",
     "output_type": "stream",
     "text": [
      "['nikhil', 'shyam', 12, 3, 4, 5]\n"
     ]
    }
   ],
   "source": [
    "v=[\"nikhil\",\"shyam\",12,3,4,5,6]\n",
    "v.pop()\n",
    "print(v)"
   ]
  },
  {
   "cell_type": "markdown",
   "id": "195bda2b",
   "metadata": {},
   "source": [
    "# programe to find sum of list"
   ]
  },
  {
   "cell_type": "code",
   "execution_count": 4,
   "id": "f2d9f299",
   "metadata": {},
   "outputs": [
    {
     "name": "stdout",
     "output_type": "stream",
     "text": [
      "entre the number do you want list size:5\n",
      "inter the number:4\n",
      "inter the number:5\n",
      "inter the number:6\n",
      "inter the number:3\n",
      "inter the number:9\n",
      "total sum of number= 27\n"
     ]
    }
   ],
   "source": [
    "a=[]\n",
    "size=int(input(\"entre the number do you want list size:\"))\n",
    "for i in range(size):\n",
    "    val=int(input(\"inter the number:\"))\n",
    "    a.append(val)\n",
    "sum=0\n",
    "for i in range(size):\n",
    "    sum=sum+a[i]\n",
    "print(\"total sum of number=\",sum)"
   ]
  },
  {
   "cell_type": "markdown",
   "id": "148130fe",
   "metadata": {},
   "source": [
    "# programe to count number of odd and even"
   ]
  },
  {
   "cell_type": "code",
   "execution_count": 7,
   "id": "eea289d1",
   "metadata": {},
   "outputs": [
    {
     "name": "stdout",
     "output_type": "stream",
     "text": [
      "entre the number do you want list size:10\n",
      "entre the value:2\n",
      "entre the value:4\n",
      "entre the value:6\n",
      "entre the value:8\n",
      "entre the value:10\n",
      "entre the value:3\n",
      "entre the value:5\n",
      "entre the value:7\n",
      "entre the value:9\n",
      "entre the value:1\n",
      "total even number= 5\n",
      "total odd number= 5\n"
     ]
    }
   ],
   "source": [
    "a=[]\n",
    "size=int(input(\"entre the number do you want list size:\"))\n",
    "for i in range(size):\n",
    "    val=int(input(\"entre the value:\"))\n",
    "    a.append(val)\n",
    "even=0\n",
    "odd=0\n",
    "for i in range(size):\n",
    "    if a[i]%2==0:\n",
    "        even+=1\n",
    "    else:\n",
    "        odd+=1\n",
    "print(\"total even number=\",even)\n",
    "print(\"total odd number=\",odd)\n",
    "        "
   ]
  },
  {
   "cell_type": "markdown",
   "id": "7540c4cc",
   "metadata": {},
   "source": [
    "# programe to search a number in the list"
   ]
  },
  {
   "cell_type": "code",
   "execution_count": 7,
   "id": "2e9cfa7b",
   "metadata": {},
   "outputs": [
    {
     "name": "stdout",
     "output_type": "stream",
     "text": [
      "entre the number do you want a list size:5\n",
      "entre the value:1\n",
      "entre the value:3\n",
      "entre the value:5\n",
      "entre the value:6\n",
      "entre the value:7\n",
      "which number do you want search in the list:5\n",
      "element found at 3 postion.\n"
     ]
    }
   ],
   "source": [
    "a=[]\n",
    "size=int(input(\"entre the number do you want a list size:\"))\n",
    "for i in range(size):\n",
    "    val=int(input(\"entre the value:\"))\n",
    "    a.append(val)\n",
    "key=int(input(\"which number do you want search in the list:\"))\n",
    "flag=0\n",
    "for i in range(size):\n",
    "    if a[i]==key:\n",
    "        flag=1\n",
    "        pos=i+1\n",
    "        break\n",
    "if(flag==1):\n",
    "    print(\"element found at\",pos,\"postion.\")\n",
    "else:\n",
    "    print(\"element not found\")"
   ]
  },
  {
   "cell_type": "markdown",
   "id": "e29597d6",
   "metadata": {},
   "source": [
    "# programe to count frequency of the number"
   ]
  },
  {
   "cell_type": "code",
   "execution_count": 3,
   "id": "1ddf4a93",
   "metadata": {},
   "outputs": [
    {
     "name": "stdout",
     "output_type": "stream",
     "text": [
      "entre the name do you want the size of list:10\n",
      "entre the number:1\n",
      "entre the number:3\n",
      "entre the number:4\n",
      "entre the number:5\n",
      "entre the number:6\n",
      "entre the number:7\n",
      "entre the number:8\n",
      "entre the number:2\n",
      "entre the number:1\n",
      "entre the number:4\n",
      "entre the number do you want frequency this number:4\n",
      "frequency= 2\n"
     ]
    }
   ],
   "source": [
    "a=[]\n",
    "size=int(input(\"entre the name do you want the size of list:\"))\n",
    "for i in range(size):\n",
    "    val=int(input(\"entre the number:\"))\n",
    "    a.append(val)\n",
    "key=int(input(\"entre the number do you want frequency this number:\"))\n",
    "count=0\n",
    "for i in range(size):\n",
    "    if a[i]==key:\n",
    "        count+=1\n",
    "print(\"frequency=\",count)\n",
    "        \n"
   ]
  },
  {
   "cell_type": "markdown",
   "id": "3c5c0c2c",
   "metadata": {},
   "source": [
    "# find max and min number in programe"
   ]
  },
  {
   "cell_type": "code",
   "execution_count": 1,
   "id": "c796a3f9",
   "metadata": {},
   "outputs": [
    {
     "name": "stdout",
     "output_type": "stream",
     "text": [
      "entre the size do you want the size of list:6\n",
      "entre the value:12\n",
      "entre the value:13\n",
      "entre the value:15\n",
      "entre the value:17\n",
      "entre the value:34\n",
      "entre the value:55\n",
      "max number= 55\n"
     ]
    }
   ],
   "source": [
    "a=[]\n",
    "size=int(input(\"entre the size do you want the size of list:\"))\n",
    "for i in range(size):\n",
    "    val=int(input(\"entre the value:\"))\n",
    "    a.append(val)\n",
    "max=a[0]\n",
    "for i in range(size):\n",
    "    if a[i]>max:\n",
    "        max= a[i]\n",
    "print(\"max number=\",max)"
   ]
  },
  {
   "cell_type": "code",
   "execution_count": 2,
   "id": "43bef2cc",
   "metadata": {},
   "outputs": [
    {
     "name": "stdout",
     "output_type": "stream",
     "text": [
      "entre the number do you want list size:5\n",
      "entre the value:1\n",
      "entre the value:3\n",
      "entre the value:4\n",
      "entre the value:6\n",
      "entre the value:7\n",
      "minium number= 1\n"
     ]
    }
   ],
   "source": [
    "a=[]\n",
    "size=int(input(\"entre the number do you want list size:\"))\n",
    "for i in range(size):\n",
    "    val=int(input(\"entre the value:\"))\n",
    "    a.append(val)\n",
    "min=a[0]\n",
    "for i in range(size):\n",
    "    if a[i]<min:\n",
    "        min=a[i]\n",
    "print(\"minium number=\",min)\n",
    "    "
   ]
  },
  {
   "cell_type": "markdown",
   "id": "ac8b70d9",
   "metadata": {},
   "source": [
    "# python programe to reverse the list"
   ]
  },
  {
   "cell_type": "code",
   "execution_count": 1,
   "id": "6f2e4170",
   "metadata": {},
   "outputs": [
    {
     "name": "stdout",
     "output_type": "stream",
     "text": [
      "entre the size do you want the size of list: 6\n",
      "entre the value:1\n",
      "entre the value:2\n",
      "entre the value:3\n",
      "entre the value:4\n",
      "entre the value:5\n",
      "entre the value:6\n",
      "list after reverse=\n",
      "6\n",
      "5\n",
      "4\n",
      "3\n",
      "2\n",
      "1\n"
     ]
    }
   ],
   "source": [
    "a=[]\n",
    "size=int(input(\"entre the size do you want the size of list: \"))\n",
    "for i in range(size):\n",
    "    val=int(input(\"entre the value:\"))\n",
    "    a.append(val)\n",
    "i=0\n",
    "j=size-1\n",
    "while(i<j):\n",
    "    t=a[i]\n",
    "    a[i]=a[j]\n",
    "    a[j]=t\n",
    "    i=i+1\n",
    "    j=j-1\n",
    "print(\"list after reverse=\")\n",
    "for i in range(size):\n",
    "    print(a[i])"
   ]
  },
  {
   "cell_type": "markdown",
   "id": "c415f955",
   "metadata": {},
   "source": [
    "# find the second min number to programe"
   ]
  },
  {
   "cell_type": "code",
   "execution_count": 3,
   "id": "4fc7c9eb",
   "metadata": {},
   "outputs": [
    {
     "name": "stdout",
     "output_type": "stream",
     "text": [
      "entre the size of list:5\n",
      "entre the value:1\n",
      "entre the value:3\n",
      "entre the value:4\n",
      "entre the value:5\n",
      "entre the value:6\n",
      "min value in the list: [[...], [...], [...], [...], [...]]\n",
      "second min value in the list= [[...], [...], [...], [...]]\n"
     ]
    }
   ],
   "source": [
    "a=[]\n",
    "size=int(input(\"entre the size of list:\"))\n",
    "for i in range(size):\n",
    "    val=int(input(\"entre the value:\"))\n",
    "    a.append(a)\n",
    "minval=min(a)\n",
    "print(\"min value in the list:\",minval)\n",
    "a.remove(minval)\n",
    "smin=min(a)\n",
    "print(\"second min value in the list=\",smin)"
   ]
  },
  {
   "cell_type": "code",
   "execution_count": null,
   "id": "d3e89c4a",
   "metadata": {},
   "outputs": [],
   "source": []
  }
 ],
 "metadata": {
  "kernelspec": {
   "display_name": "Python 3 (ipykernel)",
   "language": "python",
   "name": "python3"
  },
  "language_info": {
   "codemirror_mode": {
    "name": "ipython",
    "version": 3
   },
   "file_extension": ".py",
   "mimetype": "text/x-python",
   "name": "python",
   "nbconvert_exporter": "python",
   "pygments_lexer": "ipython3",
   "version": "3.9.12"
  }
 },
 "nbformat": 4,
 "nbformat_minor": 5
}
